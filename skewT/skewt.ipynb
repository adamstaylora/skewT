{
 "cells": [
  {
   "cell_type": "code",
   "execution_count": null,
   "metadata": {},
   "outputs": [],
   "source": [
    "import numpy as np\n",
    "import bolton\n",
    "import matplotlib.pyplot as plt\n",
    "from mpl_toolkits.axisartist import Subplot\n",
    "from matplotlib.ticker import FuncFormatter, Formatter\n",
    "from mpl_toolkits.axisartist.grid_helper_curvelinear import GridHelperCurveLinear"
   ]
  },
  {
   "cell_type": "code",
   "execution_count": null,
   "metadata": {},
   "outputs": [],
   "source": [
    "# Variables\n",
    "\n",
    "C_to_K = 273.15\n",
    "skew_slope = 40"
   ]
  },
  {
   "cell_type": "code",
   "execution_count": null,
   "metadata": {},
   "outputs": [],
   "source": [
    "def parse_SPC(filename, skip_rows = 6):\n",
    "    '''Reads in pressure, p, height, z, temperature, T, dewpoint, Td, and wind speed/direction from a .txt file as retrieved from SPC'''\n",
    "    dtype = [('p', float), ('z', float), ('T', float), ('Td', float), ('wind_dir', float), ('wind_spd', float)]\n",
    "    data = np.genfromtxt(filename, dtype = dtype, skip_header=skip_rows, delimiter=',')\n",
    "    return data"
   ]
  },
  {
   "cell_type": "code",
   "execution_count": null,
   "metadata": {},
   "outputs": [],
   "source": [
    "def x_from_TP(T,P):\n",
    "    '''Takes temperature (K) and pressure (hPa) to convert to an x coordinate from a skewed temperature and logarithmic pressure profile'''\n",
    "    x = T - skew_slope*np.log(P)\n",
    "    return x\n",
    "def y_from_P(P):\n",
    "    '''Takes pressure (hPa) to convert to an y coordinate from a logarithmic pressure profile'''\n",
    "    y = -1*np.log(P)\n",
    "    return y\n",
    "def T_from_xP(x,P):\n",
    "    '''Takes an x coordinate and pressure (hPa) from a skewed temperature and logarithmic pressure profile and returns temperature (K)'''\n",
    "    T = x + skew_slope*np.log(P)\n",
    "    return T\n",
    "def P_from_y(y):\n",
    "    '''Takes a y coordinate from a skewed temperature and logarithmic pressure profile and returns pressure (hPa)'''\n",
    "    P = np.exp(-y)\n",
    "    return P\n",
    "def to_thermo(x,y):\n",
    "    \"\"\"Transform (x,y) coordinates to T in degrees Celsius and P in mb\"\"\"\n",
    "    P = P_from_y(y)\n",
    "    T_C = T_from_xP(x,P) - C_to_K\n",
    "    return T_C, P\n",
    "def from_thermo(T_C,P):\n",
    "    \"\"\"Transform T_C (in degrees Celisus) and P (in mb) to (x,y)\"\"\"\n",
    "    y = y_from_P(P)\n",
    "    x = x_from_TP(T_C+C_to_K,P)\n",
    "    return x,y"
   ]
  },
  {
   "cell_type": "code",
   "execution_count": null,
   "metadata": {},
   "outputs": [],
   "source": [
    "# values along the bottom and left edges\n",
    "P_bottom = 1050.0\n",
    "P_top = 150.\n",
    "T_min = -40 + C_to_K\n",
    "T_max = 50 + C_to_K\n",
    "x_min = x_from_TP(T_min,P_bottom)\n",
    "x_max = x_from_TP(T_max,P_bottom)\n",
    "y_min = y_from_P(P_bottom)\n",
    "y_max = y_from_P(P_top)"
   ]
  },
  {
   "cell_type": "code",
   "execution_count": null,
   "metadata": {},
   "outputs": [],
   "source": [
    "# Define plotting levels for pressure, temperatures and mixing ratios\n",
    "P_levels = np.arange(1000, 150-50, -50)\n",
    "T_C_levels = np.arange(-80, 41, 10)\n",
    "T_levels = T_C_levels + C_to_K\n",
    "theta_levels = np.arange(-40+C_to_K, 100+10+C_to_K, 10)\n",
    "theta_ep_levels = theta_levels.copy()\n",
    "theta_e_levels = theta_levels.copy()\n",
    "mixing_ratios = np.asarray([0.4, 1, 2, 3, 4, 8, 12, 16, 20])/1000."
   ]
  },
  {
   "cell_type": "code",
   "execution_count": null,
   "metadata": {},
   "outputs": [],
   "source": [
    "# Convert pressure, temperatures, and mixing ratios to x and y coordinates\n",
    "P_all = np.arange(P_bottom, P_top-1, -1)\n",
    "y_P_levels = y_from_P(P_levels)\n",
    "y_all_P = y_from_P(P_all)\n",
    "x_T_levels = [x_from_TP(Ti, P_all) for Ti in T_levels]\n",
    "x_thetas = [x_from_TP(bolton.theta_dry(theta_i, P_all), P_all) for theta_i in theta_levels]\n",
    "x_mixing_ratios = [x_from_TP(bolton.mixing_ratio_line(P_all, mixing_ratios_i)+C_to_K, P_all) for mixing_ratios_i in mixing_ratios]\n",
    "\n",
    "# Create a 2D field of pressure and temperature\n",
    "mesh_T, mesh_P = np.meshgrid(np.arange(-60.0, T_levels.max()-C_to_K+0.1, 0.1), P_all)\n",
    "theta_ep_mesh = bolton.theta_ep_field(mesh_T, mesh_P)\n",
    "theta_e_mesh = bolton.equiv_potential_T(mesh_T, mesh_P)"
   ]
  },
  {
   "cell_type": "code",
   "execution_count": null,
   "metadata": {
    "scrolled": false
   },
   "outputs": [],
   "source": [
    "skew_grid_helper = GridHelperCurveLinear((from_thermo, to_thermo))\n",
    "\n",
    "# Begin the plot\n",
    "fig = plt.figure(figsize=(12,12))\n",
    "ax = Subplot(fig, 1, 1, 1, grid_helper = skew_grid_helper)\n",
    "\n",
    "def format_coord(x,y):\n",
    "    T, p = to_thermo(x,y)\n",
    "    return \"{0:5.1f} C, {1:5.1f} mb\".format(float(T), float(p))\n",
    "ax.format_coord = format_coord\n",
    "\n",
    "fig.add_subplot(ax)\n",
    "\n",
    "# Plot temperature, pressure, theta_dry, and mixing ratios for all given levels\n",
    "for yi in y_P_levels:\n",
    "    ax.plot((x_min, x_max), (yi,yi), color = (1., 0.8, 0.8))\n",
    "for x_T in x_T_levels:\n",
    "    ax.plot(x_T, y_all_P, color = (1., 0.5, 0.5))\n",
    "for x_theta in x_thetas:\n",
    "    ax.plot(x_theta, y_all_P, color = (1., 0.7, 0.7))\n",
    "for x_mixing_ratio in x_mixing_ratios:\n",
    "    good = P_all >= 600 # restrict mixing ratio lines to below 600 mb\n",
    "    ax.plot(x_mixing_ratio[good], y_all_P[good], color = (0.8, 0.8, 0.6))\n",
    "    \n",
    "n_moist = len(theta_ep_levels)\n",
    "moist_colors = ((0.6, 0.9, 0.7),)*n_moist # define colors for theta_ep contours\n",
    "\n",
    "# Plot 2D grid of theta_ep and theta_e\n",
    "ax.contour(x_from_TP(mesh_T+C_to_K, mesh_P), y_from_P(mesh_P), theta_ep_mesh, theta_ep_levels, colors = moist_colors)\n",
    "ax.contour(x_from_TP(mesh_T+C_to_K, mesh_P), y_from_P(mesh_P), theta_e_mesh, theta_e_levels, colors = 'c')\n",
    "ax.axis((x_min, x_max, y_min, y_max))\n",
    "\n",
    "# Import real sounding data (as .txt)\n",
    "sounding_data = parse_SPC('test_sounding.txt')\n",
    "snd_T = sounding_data['T']\n",
    "good_T = (snd_T > -100.) & (snd_T < 60.)\n",
    "snd_P = sounding_data['p']\n",
    "snd_Td = sounding_data['Td']\n",
    "x_snd_T = x_from_TP(snd_T+C_to_K, snd_P)\n",
    "x_snd_Td = x_from_TP(snd_Td+C_to_K, snd_P)\n",
    "y_snd_P = y_from_P(snd_P)\n",
    "ax.plot(x_snd_T, y_snd_P, linewidth=2, color='r')\n",
    "ax.plot(x_snd_Td, y_snd_P, linewidth=2, color='g')\n",
    "\n",
    "# Make it shine!\n",
    "plt.title('LCH 181025/1200')\n",
    "plt.show()"
   ]
  },
  {
   "cell_type": "code",
   "execution_count": null,
   "metadata": {},
   "outputs": [],
   "source": []
  }
 ],
 "metadata": {
  "kernelspec": {
   "display_name": "Python 3",
   "language": "python",
   "name": "python3"
  },
  "language_info": {
   "codemirror_mode": {
    "name": "ipython",
    "version": 3
   },
   "file_extension": ".py",
   "mimetype": "text/x-python",
   "name": "python",
   "nbconvert_exporter": "python",
   "pygments_lexer": "ipython3",
   "version": "3.6.4"
  }
 },
 "nbformat": 4,
 "nbformat_minor": 2
}
